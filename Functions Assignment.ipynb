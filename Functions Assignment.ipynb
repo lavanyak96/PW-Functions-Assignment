{
 "cells": [
  {
   "cell_type": "markdown",
   "id": "0511693e-bcf6-4641-8aa2-5ad44faf07ef",
   "metadata": {},
   "source": [
    "Q1. Which keyword is used to create a function? Create a function to return a list of odd numbers in the\n",
    "range of 1 to 25."
   ]
  },
  {
   "cell_type": "markdown",
   "id": "b0c852ce-82d1-4bfe-b6d6-4249f5cadfa2",
   "metadata": {},
   "source": [
    "The keyword used to create a function is def."
   ]
  },
  {
   "cell_type": "code",
   "execution_count": 2,
   "id": "7e48c8c1-a2f1-4270-9800-4951be934fef",
   "metadata": {},
   "outputs": [],
   "source": [
    "def odd_num():\n",
    "    n=[]\n",
    "    for i in range(1,26):\n",
    "        if i%2 != 0:\n",
    "            n.append(i)\n",
    "    return n"
   ]
  },
  {
   "cell_type": "code",
   "execution_count": 6,
   "id": "f060bc9e-093d-4b20-bcca-7609f33424fb",
   "metadata": {},
   "outputs": [
    {
     "name": "stdout",
     "output_type": "stream",
     "text": [
      "[1, 3, 5, 7, 9, 11, 13, 15, 17, 19, 21, 23, 25]\n"
     ]
    }
   ],
   "source": [
    "result=odd_num()\n",
    "print(result)"
   ]
  },
  {
   "cell_type": "markdown",
   "id": "a865620b-bba3-4842-ab0c-4f0a90d1f96a",
   "metadata": {},
   "source": [
    "   "
   ]
  },
  {
   "cell_type": "markdown",
   "id": "5c94f2ae-bbf3-4a37-b0f9-f675ee4da6a8",
   "metadata": {},
   "source": [
    "Q2. Why *args and **kwargs is used in some functions? Create a function each for *args and **kwargs to\n",
    "demonstrate their use."
   ]
  },
  {
   "cell_type": "markdown",
   "id": "8bf1da89-7776-46d3-b2db-95e6ca7a0db9",
   "metadata": {},
   "source": [
    "*args: This allows to pass a variable number of non-keyword arguments to a function. It collects these arguments into a tuple within the function.\n",
    "**kwargs: This allows to pass a variable number of keyword arguments (key-value pairs) to a function. It collects these arguments into a dictionary within the function."
   ]
  },
  {
   "cell_type": "code",
   "execution_count": 8,
   "id": "0db9e203-d695-47b1-b24f-13688433a842",
   "metadata": {},
   "outputs": [
    {
     "name": "stdout",
     "output_type": "stream",
     "text": [
      "6\n",
      "22\n"
     ]
    }
   ],
   "source": [
    "def sum_numbers(*args):\n",
    "    result = 0\n",
    "    for i in args:\n",
    "        result += i\n",
    "    return result\n",
    "\n",
    "print(sum_numbers(1, 2, 3))\n",
    "print(sum_numbers(4, 5, 6, 7))"
   ]
  },
  {
   "cell_type": "code",
   "execution_count": 9,
   "id": "8e44a53b-4778-441a-89f0-790d2d1c5d0e",
   "metadata": {},
   "outputs": [
    {
     "name": "stdout",
     "output_type": "stream",
     "text": [
      "name: Alice\n",
      "age: 30\n",
      "city: New York\n"
     ]
    }
   ],
   "source": [
    "def print_info(**kwargs):\n",
    "    for key, value in kwargs.items():\n",
    "        print(f\"{key}: {value}\")\n",
    "\n",
    "print_info(name=\"Alice\", age=30, city=\"New York\")"
   ]
  },
  {
   "cell_type": "markdown",
   "id": "2c028b7f-a525-4ea2-a4aa-b335127eec24",
   "metadata": {},
   "source": [
    "  "
   ]
  },
  {
   "cell_type": "markdown",
   "id": "52d0893f-ecf1-4ade-a634-81c19f2a7da6",
   "metadata": {},
   "source": [
    "Q3. What is an iterator in python? Name the method used to initialise the iterator object and the method used for iteration. Use these methods to print the first five elements of the given list [2, 4, 6, 8, 10, 12, 14, 16,18, 20]."
   ]
  },
  {
   "cell_type": "markdown",
   "id": "3e8da4bf-a914-401f-b83b-45d61630c355",
   "metadata": {},
   "source": [
    "An iterator is an object that allows to iterate (loop) over a sequence of elements, such as a list, tuple, or other iterable objects. To initialize an iterator object, you use the iter() method. This method takes an iterable as an argument and returns an iterator for that iterable.To iterate over the elements of an iterator, you use the next() method. This method retrieves the next element from the iterator. When there are no more elements to iterate over, it raises a StopIteration exception."
   ]
  },
  {
   "cell_type": "code",
   "execution_count": 10,
   "id": "a28a30ac-c3d0-4f84-94dc-21d3aec7403a",
   "metadata": {},
   "outputs": [
    {
     "name": "stdout",
     "output_type": "stream",
     "text": [
      "2\n",
      "4\n",
      "6\n",
      "8\n",
      "10\n"
     ]
    }
   ],
   "source": [
    "my_list = [2, 4, 6, 8, 10, 12, 14, 16, 18, 20]\n",
    "my_iterator = iter(my_list)\n",
    "\n",
    "for _ in range(5):\n",
    "    element = next(my_iterator)\n",
    "    print(element)"
   ]
  },
  {
   "cell_type": "markdown",
   "id": "be67078d-5083-4f0b-b765-29775516d88e",
   "metadata": {},
   "source": [
    " "
   ]
  },
  {
   "cell_type": "code",
   "execution_count": null,
   "id": "9b5b984d-22bf-4c8e-9aa9-1d589bb46913",
   "metadata": {},
   "outputs": [],
   "source": [
    "Q4. What is a generator function in python? Why yield keyword is used? Give an example of a generator function."
   ]
  },
  {
   "cell_type": "markdown",
   "id": "1c23db88-5a44-4e0e-a8c1-e5b5ad97e922",
   "metadata": {},
   "source": [
    "A generator function is a special type of function that generates values on-the-fly and allows you to iterate over those values one at a time.The yield keyword is used to specify a value to be generated by the generator function. \n",
    "\n",
    "When a generator function is called, it does not execute the function body immediately but returns a generator object. When you iterate over this generator object , the function is executed until it encounters a yield statement. At that point, it yields the value specified in the yield statement"
   ]
  },
  {
   "cell_type": "code",
   "execution_count": 11,
   "id": "13ae1f83-3de4-4088-9cc7-9179c39108e5",
   "metadata": {},
   "outputs": [
    {
     "name": "stdout",
     "output_type": "stream",
     "text": [
      "2\n",
      "4\n",
      "6\n",
      "8\n",
      "10\n"
     ]
    }
   ],
   "source": [
    "def even_numbers_generator(n):\n",
    "    for i in range(1, n + 1):\n",
    "        if i % 2 == 0:\n",
    "            yield i\n",
    "\n",
    "# Create a generator object\n",
    "even_gen = even_numbers_generator(10)\n",
    "\n",
    "# Iterate over the generator and print even numbers\n",
    "for num in even_gen:\n",
    "    print(num)"
   ]
  },
  {
   "cell_type": "markdown",
   "id": "aa67edbd-f27d-477b-ae3f-f9895c2f8163",
   "metadata": {},
   "source": [
    "   "
   ]
  },
  {
   "cell_type": "markdown",
   "id": "df3c3501-3d21-41d8-bfcd-ccc023cfc1ab",
   "metadata": {},
   "source": [
    "Q5. Create a generator function for prime numbers less than 1000. Use the next() method to print the\n",
    "first 20 prime numbers."
   ]
  },
  {
   "cell_type": "code",
   "execution_count": 12,
   "id": "262da1b0-1e69-472c-a25e-91c3b70562a0",
   "metadata": {},
   "outputs": [
    {
     "name": "stdout",
     "output_type": "stream",
     "text": [
      "2\n",
      "3\n",
      "5\n",
      "7\n",
      "11\n",
      "13\n",
      "17\n",
      "19\n",
      "23\n",
      "29\n",
      "31\n",
      "37\n",
      "41\n",
      "43\n",
      "47\n",
      "53\n",
      "59\n",
      "61\n",
      "67\n",
      "71\n"
     ]
    }
   ],
   "source": [
    "def is_prime(number):\n",
    "    if number <= 1:\n",
    "        return False\n",
    "    if number <= 3:\n",
    "        return True\n",
    "    if number % 2 == 0 or number % 3 == 0:\n",
    "        return False\n",
    "    i = 5\n",
    "    while i * i <= number:\n",
    "        if number % i == 0 or number % (i + 2) == 0:\n",
    "            return False\n",
    "        i += 6\n",
    "    return True\n",
    "\n",
    "def prime_generator(limit):\n",
    "    number = 2\n",
    "    count = 0\n",
    "    while number < limit:\n",
    "        if is_prime(number):\n",
    "            yield number\n",
    "            count += 1\n",
    "        number += 1\n",
    "\n",
    "# Create a generator object for prime numbers less than 1000\n",
    "prime_gen = prime_generator(1000)\n",
    "\n",
    "# Print the first 20 prime numbers using next()\n",
    "for _ in range(20):\n",
    "    prime = next(prime_gen)\n",
    "    print(prime)"
   ]
  }
 ],
 "metadata": {
  "kernelspec": {
   "display_name": "Python 3 (ipykernel)",
   "language": "python",
   "name": "python3"
  },
  "language_info": {
   "codemirror_mode": {
    "name": "ipython",
    "version": 3
   },
   "file_extension": ".py",
   "mimetype": "text/x-python",
   "name": "python",
   "nbconvert_exporter": "python",
   "pygments_lexer": "ipython3",
   "version": "3.10.8"
  }
 },
 "nbformat": 4,
 "nbformat_minor": 5
}
